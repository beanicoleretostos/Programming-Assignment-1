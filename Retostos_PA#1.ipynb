{
 "cells": [
  {
   "cell_type": "markdown",
   "id": "1c1d89fd-356e-44ae-adb9-4d9edf42fe27",
   "metadata": {},
   "source": [
    "## Bea Nicole L. Retostos\n",
    "### Programming Assignment #1"
   ]
  },
  {
   "cell_type": "markdown",
   "id": "fef2a5ed-735a-4867-9d44-365c05edeb5c",
   "metadata": {},
   "source": [
    "#### Item #1\n",
    "##### ALPHABET SOUP PROBLEM:\n",
    "Create a function that takes a string and returns a string with its letters \n",
    "in alphabetical order."
   ]
  },
  {
   "cell_type": "code",
   "execution_count": null,
   "id": "9516e14b-5f2c-4254-a428-fc741b0d34e7",
   "metadata": {},
   "outputs": [],
   "source": [
    "#User input words\n",
    "\n",
    "s = input(\"Please put desired word: \") #ask the user to input the word they want to use\n",
    "x = sorted(s) #use sorted to sort the value of the words you want to sort\n",
    "print(x) #print the sorted values to see the outcome of the program\n"
   ]
  },
  {
   "cell_type": "markdown",
   "id": "ced44a57-f4af-4833-81c1-3e1d3db215d3",
   "metadata": {},
   "source": [
    "#### Item #2\n",
    "##### EMOTICON PROBLEM: \n",
    "Create a function that changes specific words into emoticons. Given a sentence \n",
    "as a string, replace the words smile, grin, sad and mad with their corresponding emoticon"
   ]
  },
  {
   "cell_type": "code",
   "execution_count": 3,
   "id": "111cfbfb-fe9a-43ee-b5b2-6b51632bd511",
   "metadata": {},
   "outputs": [
    {
     "name": "stdin",
     "output_type": "stream",
     "text": [
      "What do you feel right now? sad\n"
     ]
    },
    {
     "name": "stdout",
     "output_type": "stream",
     "text": [
      ":((\n"
     ]
    }
   ],
   "source": [
    "\n",
    "d = {\"smile\" : \":)\" , \"grin\" : \":D\" , \"sad\" : \":((\" , \"mad\" : \">:(\"} #encode the words and representation as emoticon.\n",
    "\n",
    "y = input(\"What do you feel right now?\") #ask the user to input their feelings. \n",
    "words = y.split() #break down the sentences into words\n",
    "words_w_emoticons = [d.get(word, word) for word in words] #replacing the words to emoticons\n",
    "new_sentence = \" \".join(words_w_emoticons) #join the sentence and the emoticons\n",
    "\n",
    "print(new_sentence) #print \n"
   ]
  },
  {
   "cell_type": "markdown",
   "id": "a416823b-0399-47c6-89ee-786d75147006",
   "metadata": {},
   "source": [
    "#### Item #3\n",
    "##### UNPACKING LIST PROBLEM: \n",
    "Unpack the list writeyourcodehere into three variables, being first,\r\n",
    "middle, and last, with middle being everything in between the first and last element. Then print all three\r\n",
    "variables."
   ]
  },
  {
   "cell_type": "code",
   "execution_count": null,
   "id": "37e8eaf2-9bbc-4d72-82c2-59db170f80ef",
   "metadata": {},
   "outputs": [],
   "source": [
    "list = input(\"Define list: \") #For user input, ask the user to put some values\n",
    "list_define = list.split() #to split the string into substrings so that the program can identify which is the first or last.\n",
    "\n",
    "first, *middle, last = list \n",
    "\n",
    "print(\"First: \", first)\n",
    "print(\"Middle: \", middle)\n",
    "print(\"Last: \", last)"
   ]
  }
 ],
 "metadata": {
  "kernelspec": {
   "display_name": "Python 3 (ipykernel)",
   "language": "python",
   "name": "python3"
  },
  "language_info": {
   "codemirror_mode": {
    "name": "ipython",
    "version": 3
   },
   "file_extension": ".py",
   "mimetype": "text/x-python",
   "name": "python",
   "nbconvert_exporter": "python",
   "pygments_lexer": "ipython3",
   "version": "3.12.4"
  }
 },
 "nbformat": 4,
 "nbformat_minor": 5
}
